{
 "cells": [
  {
   "cell_type": "code",
   "execution_count": 6,
   "metadata": {
    "collapsed": true
   },
   "outputs": [],
   "source": [
    "# import sqlite3 package\n",
    "import sqlite3\n",
    "import pandas as pd"
   ]
  },
  {
   "cell_type": "code",
   "execution_count": 36,
   "metadata": {
    "collapsed": true
   },
   "outputs": [],
   "source": [
    "# Connect to our database\n",
    "connection = sqlite3.connect('dogs.db')"
   ]
  },
  {
   "cell_type": "code",
   "execution_count": 37,
   "metadata": {
    "collapsed": true
   },
   "outputs": [],
   "source": [
    "#cursor.execute('DROP TABLE parents')"
   ]
  },
  {
   "cell_type": "code",
   "execution_count": 38,
   "metadata": {},
   "outputs": [
    {
     "data": {
      "text/plain": [
       "<sqlite3.Cursor at 0x1f1c28ee880>"
      ]
     },
     "execution_count": 38,
     "metadata": {},
     "output_type": "execute_result"
    }
   ],
   "source": [
    "sql_command1 = \"\"\"\n",
    "CREATE TABLE parents (    \n",
    "    parent VARCHAR(20),    \n",
    "    child VARCHAR(20));\"\"\"\n",
    "\n",
    "sql_command2 = \"\"\"\n",
    "INSERT INTO parents (parent, child)\n",
    "    VALUES (\"abraham\",    \"barack\")    UNION\n",
    "    VALUES (\"abraham\",    \"clinton\")   UNION  \n",
    "    VALUES (\"delano\",     \"herbert\")   UNION  \n",
    "    VALUES  (\"fillmore\",   \"abraham\")  UNION  \n",
    "    VALUES (\"fillmore\",   \"delano\")    UNION  \n",
    "    VALUES (\"fillmore\",   \"grover\")    UNION  \n",
    "    VALUES (\"eisenhower\", \"fillmore\");\n",
    "    \"\"\"\n",
    "\n",
    "cursor = connection.cursor()\n",
    "cursor.execute(sql_command1)\n",
    "cursor.execute(sql_command2)"
   ]
  },
  {
   "cell_type": "code",
   "execution_count": 39,
   "metadata": {
    "collapsed": true
   },
   "outputs": [],
   "source": [
    "connection.commit() "
   ]
  },
  {
   "cell_type": "code",
   "execution_count": 40,
   "metadata": {},
   "outputs": [
    {
     "data": {
      "text/html": [
       "<div>\n",
       "<style>\n",
       "    .dataframe thead tr:only-child th {\n",
       "        text-align: right;\n",
       "    }\n",
       "\n",
       "    .dataframe thead th {\n",
       "        text-align: left;\n",
       "    }\n",
       "\n",
       "    .dataframe tbody tr th {\n",
       "        vertical-align: top;\n",
       "    }\n",
       "</style>\n",
       "<table border=\"1\" class=\"dataframe\">\n",
       "  <thead>\n",
       "    <tr style=\"text-align: right;\">\n",
       "      <th></th>\n",
       "      <th>parent</th>\n",
       "      <th>child</th>\n",
       "    </tr>\n",
       "  </thead>\n",
       "  <tbody>\n",
       "    <tr>\n",
       "      <th>0</th>\n",
       "      <td>abraham</td>\n",
       "      <td>barack</td>\n",
       "    </tr>\n",
       "    <tr>\n",
       "      <th>1</th>\n",
       "      <td>abraham</td>\n",
       "      <td>clinton</td>\n",
       "    </tr>\n",
       "    <tr>\n",
       "      <th>2</th>\n",
       "      <td>delano</td>\n",
       "      <td>herbert</td>\n",
       "    </tr>\n",
       "    <tr>\n",
       "      <th>3</th>\n",
       "      <td>eisenhower</td>\n",
       "      <td>fillmore</td>\n",
       "    </tr>\n",
       "    <tr>\n",
       "      <th>4</th>\n",
       "      <td>fillmore</td>\n",
       "      <td>abraham</td>\n",
       "    </tr>\n",
       "    <tr>\n",
       "      <th>5</th>\n",
       "      <td>fillmore</td>\n",
       "      <td>delano</td>\n",
       "    </tr>\n",
       "    <tr>\n",
       "      <th>6</th>\n",
       "      <td>fillmore</td>\n",
       "      <td>grover</td>\n",
       "    </tr>\n",
       "  </tbody>\n",
       "</table>\n",
       "</div>"
      ],
      "text/plain": [
       "       parent     child\n",
       "0     abraham    barack\n",
       "1     abraham   clinton\n",
       "2      delano   herbert\n",
       "3  eisenhower  fillmore\n",
       "4    fillmore   abraham\n",
       "5    fillmore    delano\n",
       "6    fillmore    grover"
      ]
     },
     "execution_count": 40,
     "metadata": {},
     "output_type": "execute_result"
    }
   ],
   "source": [
    "# Q1 - 1\n",
    "# Select everythin in the table parents\n",
    "\n",
    "sql_command = '''SELECT * FROM parents'''\n",
    "\n",
    "pd.read_sql_query(sql_command, connection)"
   ]
  },
  {
   "cell_type": "code",
   "execution_count": 41,
   "metadata": {},
   "outputs": [
    {
     "data": {
      "text/html": [
       "<div>\n",
       "<style>\n",
       "    .dataframe thead tr:only-child th {\n",
       "        text-align: right;\n",
       "    }\n",
       "\n",
       "    .dataframe thead th {\n",
       "        text-align: left;\n",
       "    }\n",
       "\n",
       "    .dataframe tbody tr th {\n",
       "        vertical-align: top;\n",
       "    }\n",
       "</style>\n",
       "<table border=\"1\" class=\"dataframe\">\n",
       "  <thead>\n",
       "    <tr style=\"text-align: right;\">\n",
       "      <th></th>\n",
       "      <th>child</th>\n",
       "      <th>parent</th>\n",
       "    </tr>\n",
       "  </thead>\n",
       "  <tbody>\n",
       "    <tr>\n",
       "      <th>0</th>\n",
       "      <td>barack</td>\n",
       "      <td>abraham</td>\n",
       "    </tr>\n",
       "    <tr>\n",
       "      <th>1</th>\n",
       "      <td>clinton</td>\n",
       "      <td>abraham</td>\n",
       "    </tr>\n",
       "  </tbody>\n",
       "</table>\n",
       "</div>"
      ],
      "text/plain": [
       "     child   parent\n",
       "0   barack  abraham\n",
       "1  clinton  abraham"
      ]
     },
     "execution_count": 41,
     "metadata": {},
     "output_type": "execute_result"
    }
   ],
   "source": [
    "# Q1 - 2\n",
    "# SELECT child and parent, where abraham is the parent\n",
    "\n",
    "sql_command = '''SELECT child, parent FROM parents WHERE parent = \"abraham\"'''\n",
    "\n",
    "pd.read_sql_query(sql_command, connection)"
   ]
  },
  {
   "cell_type": "code",
   "execution_count": 42,
   "metadata": {},
   "outputs": [
    {
     "data": {
      "text/html": [
       "<div>\n",
       "<style>\n",
       "    .dataframe thead tr:only-child th {\n",
       "        text-align: right;\n",
       "    }\n",
       "\n",
       "    .dataframe thead th {\n",
       "        text-align: left;\n",
       "    }\n",
       "\n",
       "    .dataframe tbody tr th {\n",
       "        vertical-align: top;\n",
       "    }\n",
       "</style>\n",
       "<table border=\"1\" class=\"dataframe\">\n",
       "  <thead>\n",
       "    <tr style=\"text-align: right;\">\n",
       "      <th></th>\n",
       "      <th>child</th>\n",
       "    </tr>\n",
       "  </thead>\n",
       "  <tbody>\n",
       "    <tr>\n",
       "      <th>0</th>\n",
       "      <td>herbert</td>\n",
       "    </tr>\n",
       "    <tr>\n",
       "      <th>1</th>\n",
       "      <td>fillmore</td>\n",
       "    </tr>\n",
       "    <tr>\n",
       "      <th>2</th>\n",
       "      <td>delano</td>\n",
       "    </tr>\n",
       "    <tr>\n",
       "      <th>3</th>\n",
       "      <td>grover</td>\n",
       "    </tr>\n",
       "  </tbody>\n",
       "</table>\n",
       "</div>"
      ],
      "text/plain": [
       "      child\n",
       "0   herbert\n",
       "1  fillmore\n",
       "2    delano\n",
       "3    grover"
      ]
     },
     "execution_count": 42,
     "metadata": {},
     "output_type": "execute_result"
    }
   ],
   "source": [
    "# Q1 - 3\n",
    "#SELECT all children that have an 'e' in their name (hint: use LIKE and '%e%').\n",
    "\n",
    "sql_command = \"SELECT child FROM parents WHERE child LIKE '%e%'\"\n",
    "\n",
    "pd.read_sql_query(sql_command, connection)"
   ]
  },
  {
   "cell_type": "code",
   "execution_count": 43,
   "metadata": {},
   "outputs": [
    {
     "data": {
      "text/html": [
       "<div>\n",
       "<style>\n",
       "    .dataframe thead tr:only-child th {\n",
       "        text-align: right;\n",
       "    }\n",
       "\n",
       "    .dataframe thead th {\n",
       "        text-align: left;\n",
       "    }\n",
       "\n",
       "    .dataframe tbody tr th {\n",
       "        vertical-align: top;\n",
       "    }\n",
       "</style>\n",
       "<table border=\"1\" class=\"dataframe\">\n",
       "  <thead>\n",
       "    <tr style=\"text-align: right;\">\n",
       "      <th></th>\n",
       "      <th>parent</th>\n",
       "    </tr>\n",
       "  </thead>\n",
       "  <tbody>\n",
       "    <tr>\n",
       "      <th>0</th>\n",
       "      <td>abraham</td>\n",
       "    </tr>\n",
       "    <tr>\n",
       "      <th>1</th>\n",
       "      <td>delano</td>\n",
       "    </tr>\n",
       "    <tr>\n",
       "      <th>2</th>\n",
       "      <td>eisenhower</td>\n",
       "    </tr>\n",
       "    <tr>\n",
       "      <th>3</th>\n",
       "      <td>fillmore</td>\n",
       "    </tr>\n",
       "  </tbody>\n",
       "</table>\n",
       "</div>"
      ],
      "text/plain": [
       "       parent\n",
       "0     abraham\n",
       "1      delano\n",
       "2  eisenhower\n",
       "3    fillmore"
      ]
     },
     "execution_count": 43,
     "metadata": {},
     "output_type": "execute_result"
    }
   ],
   "source": [
    "# Q1 - 4\n",
    "#SELECT all unique parents (use SELECT DISTINCT) and order them by name, descending order (i.e.fillmore first)\n",
    "\n",
    "sql_command = \"\"\"SELECT DISTINCT parent FROM parents ORDER BY parent\"\"\"\n",
    "\n",
    "pd.read_sql_query(sql_command, connection)"
   ]
  },
  {
   "cell_type": "code",
   "execution_count": 44,
   "metadata": {},
   "outputs": [
    {
     "data": {
      "text/html": [
       "<div>\n",
       "<style>\n",
       "    .dataframe thead tr:only-child th {\n",
       "        text-align: right;\n",
       "    }\n",
       "\n",
       "    .dataframe thead th {\n",
       "        text-align: left;\n",
       "    }\n",
       "\n",
       "    .dataframe tbody tr th {\n",
       "        vertical-align: top;\n",
       "    }\n",
       "</style>\n",
       "<table border=\"1\" class=\"dataframe\">\n",
       "  <thead>\n",
       "    <tr style=\"text-align: right;\">\n",
       "      <th></th>\n",
       "      <th>Parent</th>\n",
       "      <th>CASE WHEN A.CHILD &lt; B.CHILD THEN A.CHILD ELSE B.CHILD END</th>\n",
       "      <th>CASE WHEN A.CHILD &gt; B.CHILD THEN A.CHILD ELSE B.CHILD END</th>\n",
       "    </tr>\n",
       "  </thead>\n",
       "  <tbody>\n",
       "    <tr>\n",
       "      <th>0</th>\n",
       "      <td>abraham</td>\n",
       "      <td>barack</td>\n",
       "      <td>clinton</td>\n",
       "    </tr>\n",
       "    <tr>\n",
       "      <th>1</th>\n",
       "      <td>fillmore</td>\n",
       "      <td>abraham</td>\n",
       "      <td>delano</td>\n",
       "    </tr>\n",
       "    <tr>\n",
       "      <th>2</th>\n",
       "      <td>fillmore</td>\n",
       "      <td>abraham</td>\n",
       "      <td>grover</td>\n",
       "    </tr>\n",
       "    <tr>\n",
       "      <th>3</th>\n",
       "      <td>fillmore</td>\n",
       "      <td>delano</td>\n",
       "      <td>grover</td>\n",
       "    </tr>\n",
       "  </tbody>\n",
       "</table>\n",
       "</div>"
      ],
      "text/plain": [
       "     Parent CASE WHEN A.CHILD < B.CHILD THEN A.CHILD ELSE B.CHILD END  \\\n",
       "0   abraham                                             barack          \n",
       "1  fillmore                                            abraham          \n",
       "2  fillmore                                            abraham          \n",
       "3  fillmore                                             delano          \n",
       "\n",
       "  CASE WHEN A.CHILD > B.CHILD THEN A.CHILD ELSE B.CHILD END  \n",
       "0                                            clinton         \n",
       "1                                             delano         \n",
       "2                                             grover         \n",
       "3                                             grover         "
      ]
     },
     "execution_count": 44,
     "metadata": {},
     "output_type": "execute_result"
    }
   ],
   "source": [
    "# Q1 - 5\n",
    "# SELECT all dogs that are siblings (one-to-one relations). Only show a sibling pair once. \n",
    "# To do this you need to select two times from the parents table.\n",
    "\n",
    "sql_command = \"\"\"\n",
    "SELECT DISTINCT A.PARENT AS Parent,\n",
    "CASE WHEN A.CHILD < B.CHILD THEN A.CHILD ELSE B.CHILD END,\n",
    "CASE WHEN A.CHILD > B.CHILD THEN A.CHILD ELSE B.CHILD END\n",
    "FROM PARENTS A INNER JOIN PARENTS B ON A.PARENT = B.PARENT \n",
    "WHERE A.CHILD != B.CHILD\"\"\"\n",
    "\n",
    "pd.read_sql_query(sql_command, connection)"
   ]
  },
  {
   "cell_type": "code",
   "execution_count": 45,
   "metadata": {
    "collapsed": true
   },
   "outputs": [],
   "source": [
    "# Create dogs table including the fur characteristic\n",
    "\n",
    "sql_command = \"\"\"\n",
    "CREATE TABLE dogs AS  \n",
    "    SELECT \"abraham\" AS name, \"long\" AS fur UNION  \n",
    "    SELECT \"barack\",          \"short\"       UNION  \n",
    "    SELECT \"clinton\",         \"long\"        UNION  \n",
    "    SELECT \"delano\",          \"long\"        UNION  \n",
    "    SELECT \"eisenhower\",      \"short\"       UNION  \n",
    "    SELECT \"fillmore\",        \"curly\"       UNION  \n",
    "    SELECT \"grover\",          \"short\"       UNION  \n",
    "    SELECT \"herbert\",         \"curly\";\n",
    "\"\"\"\n",
    "cursor.execute(sql_command)\n",
    "connection.commit()"
   ]
  },
  {
   "cell_type": "code",
   "execution_count": 46,
   "metadata": {},
   "outputs": [
    {
     "data": {
      "text/html": [
       "<div>\n",
       "<style>\n",
       "    .dataframe thead tr:only-child th {\n",
       "        text-align: right;\n",
       "    }\n",
       "\n",
       "    .dataframe thead th {\n",
       "        text-align: left;\n",
       "    }\n",
       "\n",
       "    .dataframe tbody tr th {\n",
       "        vertical-align: top;\n",
       "    }\n",
       "</style>\n",
       "<table border=\"1\" class=\"dataframe\">\n",
       "  <thead>\n",
       "    <tr style=\"text-align: right;\">\n",
       "      <th></th>\n",
       "      <th>ShortHairDogs</th>\n",
       "    </tr>\n",
       "  </thead>\n",
       "  <tbody>\n",
       "    <tr>\n",
       "      <th>0</th>\n",
       "      <td>3</td>\n",
       "    </tr>\n",
       "  </tbody>\n",
       "</table>\n",
       "</div>"
      ],
      "text/plain": [
       "   ShortHairDogs\n",
       "0              3"
      ]
     },
     "execution_count": 46,
     "metadata": {},
     "output_type": "execute_result"
    }
   ],
   "source": [
    "# Q2 - 1\n",
    "# COUNT the number of short haired dogs\n",
    "\n",
    "sql_command = \"\"\"SELECT COUNT(name) AS ShortHairDogs FROM dogs WHERE fur LIKE 'short'\"\"\"\n",
    "\n",
    "pd.read_sql_query(sql_command, connection)"
   ]
  },
  {
   "cell_type": "code",
   "execution_count": 47,
   "metadata": {},
   "outputs": [
    {
     "data": {
      "text/html": [
       "<div>\n",
       "<style>\n",
       "    .dataframe thead tr:only-child th {\n",
       "        text-align: right;\n",
       "    }\n",
       "\n",
       "    .dataframe thead th {\n",
       "        text-align: left;\n",
       "    }\n",
       "\n",
       "    .dataframe tbody tr th {\n",
       "        vertical-align: top;\n",
       "    }\n",
       "</style>\n",
       "<table border=\"1\" class=\"dataframe\">\n",
       "  <thead>\n",
       "    <tr style=\"text-align: right;\">\n",
       "      <th></th>\n",
       "      <th>parent</th>\n",
       "    </tr>\n",
       "  </thead>\n",
       "  <tbody>\n",
       "    <tr>\n",
       "      <th>0</th>\n",
       "      <td>eisenhower</td>\n",
       "    </tr>\n",
       "    <tr>\n",
       "      <th>1</th>\n",
       "      <td>delano</td>\n",
       "    </tr>\n",
       "  </tbody>\n",
       "</table>\n",
       "</div>"
      ],
      "text/plain": [
       "       parent\n",
       "0  eisenhower\n",
       "1      delano"
      ]
     },
     "execution_count": 47,
     "metadata": {},
     "output_type": "execute_result"
    }
   ],
   "source": [
    "#Q2 - 2\n",
    "#JOIN tables parents and dogs and SELECT the parents of curly dogs\n",
    "\n",
    "sql_command = \"\"\"\n",
    "SELECT parents.parent\n",
    "FROM parents\n",
    "INNER JOIN dogs\n",
    "ON parents.child = dogs.name\n",
    "WHERE dogs.fur LIKE 'curly'\"\"\"\n",
    "\n",
    "pd.read_sql_query(sql_command, connection)"
   ]
  },
  {
   "cell_type": "code",
   "execution_count": 48,
   "metadata": {},
   "outputs": [
    {
     "data": {
      "text/html": [
       "<div>\n",
       "<style>\n",
       "    .dataframe thead tr:only-child th {\n",
       "        text-align: right;\n",
       "    }\n",
       "\n",
       "    .dataframe thead th {\n",
       "        text-align: left;\n",
       "    }\n",
       "\n",
       "    .dataframe tbody tr th {\n",
       "        vertical-align: top;\n",
       "    }\n",
       "</style>\n",
       "<table border=\"1\" class=\"dataframe\">\n",
       "  <thead>\n",
       "    <tr style=\"text-align: right;\">\n",
       "      <th></th>\n",
       "      <th>ParentName</th>\n",
       "      <th>ChildName</th>\n",
       "      <th>Fur</th>\n",
       "    </tr>\n",
       "  </thead>\n",
       "  <tbody>\n",
       "    <tr>\n",
       "      <th>0</th>\n",
       "      <td>abraham</td>\n",
       "      <td>clinton</td>\n",
       "      <td>long</td>\n",
       "    </tr>\n",
       "  </tbody>\n",
       "</table>\n",
       "</div>"
      ],
      "text/plain": [
       "  ParentName ChildName   Fur\n",
       "0    abraham   clinton  long"
      ]
     },
     "execution_count": 48,
     "metadata": {},
     "output_type": "execute_result"
    }
   ],
   "source": [
    "#Q2 - 3\n",
    "#JOIN tables parents and dogs, and SELECT the parents and children that have the same fur type. Onlyshow them once.\n",
    "\n",
    "sql_command = \"\"\"\n",
    "SELECT P.name AS ParentName, C.name AS ChildName, P.fur AS Fur\n",
    "FROM dogs P, dogs C\n",
    "WHERE P.name <> C.name\n",
    "AND P.fur = C.fur\n",
    "AND EXISTS (SELECT parent, child FROM parents WHERE child = C.name AND parent= P.name)\n",
    "ORDER BY P.fur\n",
    "\"\"\"\n",
    "\n",
    "pd.read_sql_query(sql_command, connection)"
   ]
  },
  {
   "cell_type": "code",
   "execution_count": 11,
   "metadata": {},
   "outputs": [
    {
     "data": {
      "text/plain": [
       "<sqlite3.Cursor at 0x201ef3895e0>"
      ]
     },
     "execution_count": 11,
     "metadata": {},
     "output_type": "execute_result"
    }
   ],
   "source": [
    "#Creat table with many different animals\n",
    "\n",
    "sql_command = \"\"\"\n",
    "create table animals as \n",
    "    select \"dog\" as kind, 4 as legs, 20 as weight union \n",
    "    select \"cat\" , 4 , 10 union \n",
    "    select \"ferret\" , 4 , 10 union \n",
    "    select \"parrot\" , 2 , 6 union \n",
    "    select \"penguin\" , 2 , 10 union\n",
    "    select \"t-rex\" , 2 , 12000\"\"\"\n",
    "\n",
    "cursor.execute(sql_command)"
   ]
  },
  {
   "cell_type": "code",
   "execution_count": 50,
   "metadata": {},
   "outputs": [
    {
     "data": {
      "text/html": [
       "<div>\n",
       "<style>\n",
       "    .dataframe thead tr:only-child th {\n",
       "        text-align: right;\n",
       "    }\n",
       "\n",
       "    .dataframe thead th {\n",
       "        text-align: left;\n",
       "    }\n",
       "\n",
       "    .dataframe tbody tr th {\n",
       "        vertical-align: top;\n",
       "    }\n",
       "</style>\n",
       "<table border=\"1\" class=\"dataframe\">\n",
       "  <thead>\n",
       "    <tr style=\"text-align: right;\">\n",
       "      <th></th>\n",
       "      <th>kind</th>\n",
       "      <th>MIN(weight)</th>\n",
       "    </tr>\n",
       "  </thead>\n",
       "  <tbody>\n",
       "    <tr>\n",
       "      <th>0</th>\n",
       "      <td>parrot</td>\n",
       "      <td>6</td>\n",
       "    </tr>\n",
       "  </tbody>\n",
       "</table>\n",
       "</div>"
      ],
      "text/plain": [
       "     kind  MIN(weight)\n",
       "0  parrot            6"
      ]
     },
     "execution_count": 50,
     "metadata": {},
     "output_type": "execute_result"
    }
   ],
   "source": [
    "# Q3 - 1\n",
    "# SELECT the animal with the minimum weight. Display kind and min_weight.\n",
    "\n",
    "sql_command = \"\"\"\n",
    "SELECT kind, MIN(weight)\n",
    "FROM animals\n",
    "\"\"\"\n",
    "\n",
    "pd.read_sql_query(sql_command, connection)"
   ]
  },
  {
   "cell_type": "code",
   "execution_count": 51,
   "metadata": {},
   "outputs": [
    {
     "data": {
      "text/html": [
       "<div>\n",
       "<style>\n",
       "    .dataframe thead tr:only-child th {\n",
       "        text-align: right;\n",
       "    }\n",
       "\n",
       "    .dataframe thead th {\n",
       "        text-align: left;\n",
       "    }\n",
       "\n",
       "    .dataframe tbody tr th {\n",
       "        vertical-align: top;\n",
       "    }\n",
       "</style>\n",
       "<table border=\"1\" class=\"dataframe\">\n",
       "  <thead>\n",
       "    <tr style=\"text-align: right;\">\n",
       "      <th></th>\n",
       "      <th>AVG(legs)</th>\n",
       "      <th>AVG(weight)</th>\n",
       "    </tr>\n",
       "  </thead>\n",
       "  <tbody>\n",
       "    <tr>\n",
       "      <th>0</th>\n",
       "      <td>3.0</td>\n",
       "      <td>2009.333333</td>\n",
       "    </tr>\n",
       "  </tbody>\n",
       "</table>\n",
       "</div>"
      ],
      "text/plain": [
       "   AVG(legs)  AVG(weight)\n",
       "0        3.0  2009.333333"
      ]
     },
     "execution_count": 51,
     "metadata": {},
     "output_type": "execute_result"
    }
   ],
   "source": [
    "# Q3 - 2\n",
    "# Use the aggregate function AVG to display a table with the average number of legs and the average weight.\n",
    "\n",
    "sql_command = \"\"\"\n",
    "SELECT AVG(legs), AVG(weight)\n",
    "FROM animals\n",
    "\"\"\"\n",
    "\n",
    "pd.read_sql_query(sql_command, connection)"
   ]
  },
  {
   "cell_type": "code",
   "execution_count": 52,
   "metadata": {},
   "outputs": [
    {
     "data": {
      "text/html": [
       "<div>\n",
       "<style>\n",
       "    .dataframe thead tr:only-child th {\n",
       "        text-align: right;\n",
       "    }\n",
       "\n",
       "    .dataframe thead th {\n",
       "        text-align: left;\n",
       "    }\n",
       "\n",
       "    .dataframe tbody tr th {\n",
       "        vertical-align: top;\n",
       "    }\n",
       "</style>\n",
       "<table border=\"1\" class=\"dataframe\">\n",
       "  <thead>\n",
       "    <tr style=\"text-align: right;\">\n",
       "      <th></th>\n",
       "      <th>kind</th>\n",
       "      <th>weight</th>\n",
       "      <th>legs</th>\n",
       "    </tr>\n",
       "  </thead>\n",
       "  <tbody>\n",
       "    <tr>\n",
       "      <th>0</th>\n",
       "      <td>cat</td>\n",
       "      <td>10</td>\n",
       "      <td>4</td>\n",
       "    </tr>\n",
       "    <tr>\n",
       "      <th>1</th>\n",
       "      <td>ferret</td>\n",
       "      <td>10</td>\n",
       "      <td>4</td>\n",
       "    </tr>\n",
       "  </tbody>\n",
       "</table>\n",
       "</div>"
      ],
      "text/plain": [
       "     kind  weight  legs\n",
       "0     cat      10     4\n",
       "1  ferret      10     4"
      ]
     },
     "execution_count": 52,
     "metadata": {},
     "output_type": "execute_result"
    }
   ],
   "source": [
    "# Q3 - 3\n",
    "# SELECT the animal kind(s) that have more than two legs, but weighs less than 20. Display kind, weight,legs.\n",
    "\n",
    "sql_command = \"\"\"\n",
    "SELECT kind, weight, legs\n",
    "FROM animals\n",
    "WHERE weight < 20 AND legs > 2\n",
    "\"\"\"\n",
    "pd.read_sql_query(sql_command, connection)"
   ]
  },
  {
   "cell_type": "code",
   "execution_count": 53,
   "metadata": {},
   "outputs": [
    {
     "data": {
      "text/html": [
       "<div>\n",
       "<style>\n",
       "    .dataframe thead tr:only-child th {\n",
       "        text-align: right;\n",
       "    }\n",
       "\n",
       "    .dataframe thead th {\n",
       "        text-align: left;\n",
       "    }\n",
       "\n",
       "    .dataframe tbody tr th {\n",
       "        vertical-align: top;\n",
       "    }\n",
       "</style>\n",
       "<table border=\"1\" class=\"dataframe\">\n",
       "  <thead>\n",
       "    <tr style=\"text-align: right;\">\n",
       "      <th></th>\n",
       "      <th>AVG(weight)</th>\n",
       "    </tr>\n",
       "  </thead>\n",
       "  <tbody>\n",
       "    <tr>\n",
       "      <th>0</th>\n",
       "      <td>4005.333333</td>\n",
       "    </tr>\n",
       "    <tr>\n",
       "      <th>1</th>\n",
       "      <td>13.333333</td>\n",
       "    </tr>\n",
       "  </tbody>\n",
       "</table>\n",
       "</div>"
      ],
      "text/plain": [
       "   AVG(weight)\n",
       "0  4005.333333\n",
       "1    13.333333"
      ]
     },
     "execution_count": 53,
     "metadata": {},
     "output_type": "execute_result"
    }
   ],
   "source": [
    "# Q3 - 4\n",
    "# SELECT the average weight for all the animals with 2 legs and the animals with 4 legs (by using GROUPBY).\n",
    "\n",
    "sql_command = \"\"\"\n",
    "SELECT AVG(weight)\n",
    "FROM animals\n",
    "GROUP BY legs\n",
    "\"\"\"\n",
    "\n",
    "pd.read_sql_query(sql_command, connection)"
   ]
  }
 ],
 "metadata": {
  "kernelspec": {
   "display_name": "Python 3",
   "language": "python",
   "name": "python3"
  },
  "language_info": {
   "codemirror_mode": {
    "name": "ipython",
    "version": 3
   },
   "file_extension": ".py",
   "mimetype": "text/x-python",
   "name": "python",
   "nbconvert_exporter": "python",
   "pygments_lexer": "ipython3",
   "version": "3.6.1"
  }
 },
 "nbformat": 4,
 "nbformat_minor": 2
}
